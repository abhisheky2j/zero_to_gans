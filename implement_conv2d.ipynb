{
  "nbformat": 4,
  "nbformat_minor": 0,
  "metadata": {
    "colab": {
      "name": "implement_conv2d.ipynb",
      "provenance": [],
      "collapsed_sections": [],
      "include_colab_link": true
    },
    "kernelspec": {
      "name": "python3",
      "display_name": "Python 3"
    }
  },
  "cells": [
    {
      "cell_type": "markdown",
      "metadata": {
        "id": "view-in-github",
        "colab_type": "text"
      },
      "source": [
        "<a href=\"https://colab.research.google.com/github/depplenny/zero_to_gans/blob/master/implement_conv2d.ipynb\" target=\"_parent\"><img src=\"https://colab.research.google.com/assets/colab-badge.svg\" alt=\"Open In Colab\"/></a>"
      ]
    },
    {
      "cell_type": "markdown",
      "metadata": {
        "id": "GcQIt-Fy4MVU",
        "colab_type": "text"
      },
      "source": [
        "# This notebook demenstrate a simple convolutional opearation in CNN to extact featuers to identify a \"X\" image. Given M by M input image, P padding, N by N kernal, S stride, CNN outputs a (M+2P-N)/S+1 by (M+2P-N)/S+1 image.\n",
        "\n",
        "Dimension: output = (input+2padding-kernel)/stride+1\n",
        "\n",
        "One filter consists of several kernals, e.g. if you apply a filter to a 3\\*32\\*32 (channel\\*width\\*height) input image (input feature map), you will need a filter with 3 kernals, apply each kernal to each channel of the image then add all results, you get one channel of the output image (output feature map). With another filter you will get another channel of the output image (output feature map) by repeating the previous step. The output image is not a classical image, it's a collection of features of the input image."
      ]
    },
    {
      "cell_type": "code",
      "metadata": {
        "id": "g0kXwdApslBw",
        "colab_type": "code",
        "colab": {}
      },
      "source": [
        "import numpy as np"
      ],
      "execution_count": null,
      "outputs": []
    },
    {
      "cell_type": "code",
      "metadata": {
        "id": "usx7rRxQtTRM",
        "colab_type": "code",
        "colab": {
          "base_uri": "https://localhost:8080/",
          "height": 138
        },
        "outputId": "e388b23c-0c7e-4064-e3f8-7be7418dd54f"
      },
      "source": [
        "input_1=-1*np.ones((7,7))\n",
        "i=0\n",
        "for row in input_1:\n",
        "    row[i]=1\n",
        "    row[-(i+1)]=1\n",
        "    i=i+1\n",
        "input_1"
      ],
      "execution_count": null,
      "outputs": [
        {
          "output_type": "execute_result",
          "data": {
            "text/plain": [
              "array([[ 1., -1., -1., -1., -1., -1.,  1.],\n",
              "       [-1.,  1., -1., -1., -1.,  1., -1.],\n",
              "       [-1., -1.,  1., -1.,  1., -1., -1.],\n",
              "       [-1., -1., -1.,  1., -1., -1., -1.],\n",
              "       [-1., -1.,  1., -1.,  1., -1., -1.],\n",
              "       [-1.,  1., -1., -1., -1.,  1., -1.],\n",
              "       [ 1., -1., -1., -1., -1., -1.,  1.]])"
            ]
          },
          "metadata": {
            "tags": []
          },
          "execution_count": 2
        }
      ]
    },
    {
      "cell_type": "code",
      "metadata": {
        "id": "6MzRA3Ok37kl",
        "colab_type": "code",
        "colab": {
          "base_uri": "https://localhost:8080/",
          "height": 138
        },
        "outputId": "bf3dc952-d0d6-4509-8fb9-1e22b5039763"
      },
      "source": [
        "input_2=np.array([[ -1., -1., -1., -1., -1., -1.,  1.],\n",
        "       [1.,  -1., -1., -1., -1.,  1., -1.],\n",
        "       [-1., 1.,  1., -1.,  1., -1., -1.],\n",
        "       [-1., -1., -1.,  1., -1., -1., -1.],\n",
        "       [-1., -1.,  1., -1.,  1., 1., -1.],\n",
        "       [-1.,  -1., 1., -1., -1.,  -1., 1.],\n",
        "       [ -1., 1., -1., -1., -1., -1.,  -1.]]) \n",
        "input_2"
      ],
      "execution_count": null,
      "outputs": [
        {
          "output_type": "execute_result",
          "data": {
            "text/plain": [
              "array([[-1., -1., -1., -1., -1., -1.,  1.],\n",
              "       [ 1., -1., -1., -1., -1.,  1., -1.],\n",
              "       [-1.,  1.,  1., -1.,  1., -1., -1.],\n",
              "       [-1., -1., -1.,  1., -1., -1., -1.],\n",
              "       [-1., -1.,  1., -1.,  1.,  1., -1.],\n",
              "       [-1., -1.,  1., -1., -1., -1.,  1.],\n",
              "       [-1.,  1., -1., -1., -1., -1., -1.]])"
            ]
          },
          "metadata": {
            "tags": []
          },
          "execution_count": 10
        }
      ]
    },
    {
      "cell_type": "code",
      "metadata": {
        "id": "U9wO6UkhuZRC",
        "colab_type": "code",
        "colab": {
          "base_uri": "https://localhost:8080/",
          "height": 69
        },
        "outputId": "07572016-f8c6-4574-9957-d32148ec735d"
      },
      "source": [
        "f1=-1*np.ones((3,3))\n",
        "i=0\n",
        "for row in f1:\n",
        "    row[i]=1\n",
        "    i=i+1\n",
        "f1"
      ],
      "execution_count": null,
      "outputs": [
        {
          "output_type": "execute_result",
          "data": {
            "text/plain": [
              "array([[ 1., -1., -1.],\n",
              "       [-1.,  1., -1.],\n",
              "       [-1., -1.,  1.]])"
            ]
          },
          "metadata": {
            "tags": []
          },
          "execution_count": 3
        }
      ]
    },
    {
      "cell_type": "code",
      "metadata": {
        "id": "UFfOcrihvg-b",
        "colab_type": "code",
        "colab": {
          "base_uri": "https://localhost:8080/",
          "height": 69
        },
        "outputId": "4b427087-62c5-44fd-c452-e97e57b63130"
      },
      "source": [
        "f2=np.array([[1,-1,1],[-1,1,-1],[1,-1,1]])\n",
        "f2"
      ],
      "execution_count": null,
      "outputs": [
        {
          "output_type": "execute_result",
          "data": {
            "text/plain": [
              "array([[ 1, -1,  1],\n",
              "       [-1,  1, -1],\n",
              "       [ 1, -1,  1]])"
            ]
          },
          "metadata": {
            "tags": []
          },
          "execution_count": 4
        }
      ]
    },
    {
      "cell_type": "code",
      "metadata": {
        "id": "PrE_ADrEv74L",
        "colab_type": "code",
        "colab": {
          "base_uri": "https://localhost:8080/",
          "height": 69
        },
        "outputId": "ce836824-8c56-41a4-ad77-a05a149c7538"
      },
      "source": [
        "f3=np.array([[-1,-1,1],[-1,1,-1],[1,-1,-1]])\n",
        "f3"
      ],
      "execution_count": null,
      "outputs": [
        {
          "output_type": "execute_result",
          "data": {
            "text/plain": [
              "array([[-1, -1,  1],\n",
              "       [-1,  1, -1],\n",
              "       [ 1, -1, -1]])"
            ]
          },
          "metadata": {
            "tags": []
          },
          "execution_count": 5
        }
      ]
    },
    {
      "cell_type": "code",
      "metadata": {
        "id": "DbK9WAMNwLGX",
        "colab_type": "code",
        "colab": {}
      },
      "source": [
        "def convolution(input, f, s):\n",
        "  #input: input matrix; f: filter matrix, s: stride \n",
        "  d_feature_map=(len(input)-len(f))//s+1\n",
        "  feature_map=np.zeros((d_feature_map,d_feature_map)) \n",
        "  for i in range(d_feature_map):\n",
        "    for j in range(d_feature_map):\n",
        "      m=i*s \n",
        "      n=j*s \n",
        "      patch = input[m:m+len(f),n:n+len(f)] \n",
        "      feature_map_element=(patch*f).sum()\n",
        "      feature_map[i,j]=feature_map_element\n",
        "  return feature_map"
      ],
      "execution_count": null,
      "outputs": []
    },
    {
      "cell_type": "code",
      "metadata": {
        "id": "EBwZ7Wij5xXL",
        "colab_type": "code",
        "colab": {
          "base_uri": "https://localhost:8080/",
          "height": 138
        },
        "outputId": "b1ee8ba5-d0bf-4a4b-fe85-0795c60dd666"
      },
      "source": [
        "print(convolution(input_1,f1,2))\n",
        "print(\"--------------------------------------\")\n",
        "print(convolution(input_2,f1,2))"
      ],
      "execution_count": null,
      "outputs": [
        {
          "output_type": "stream",
          "text": [
            "[[9. 3. 1.]\n",
            " [3. 5. 3.]\n",
            " [1. 3. 9.]]\n",
            "--------------------------------------\n",
            "[[ 1.  3.  1.]\n",
            " [ 1.  5.  1.]\n",
            " [-3.  1.  1.]]\n"
          ],
          "name": "stdout"
        }
      ]
    },
    {
      "cell_type": "code",
      "metadata": {
        "id": "zh7XB8Ho6YV0",
        "colab_type": "code",
        "colab": {
          "base_uri": "https://localhost:8080/",
          "height": 138
        },
        "outputId": "ccf491bf-907b-4ac2-90c5-4977ab5ee2c9"
      },
      "source": [
        "print(convolution(input_1,f2,2))\n",
        "print(\"--------------------------------------\")\n",
        "print(convolution(input_2,f2,2))"
      ],
      "execution_count": null,
      "outputs": [
        {
          "output_type": "stream",
          "text": [
            "[[5. 3. 5.]\n",
            " [3. 9. 3.]\n",
            " [5. 3. 5.]]\n",
            "--------------------------------------\n",
            "[[-3.  3.  5.]\n",
            " [ 1.  9.  1.]\n",
            " [-3.  1. -3.]]\n"
          ],
          "name": "stdout"
        }
      ]
    },
    {
      "cell_type": "code",
      "metadata": {
        "id": "x3pKxCJk6oKH",
        "colab_type": "code",
        "colab": {
          "base_uri": "https://localhost:8080/",
          "height": 138
        },
        "outputId": "c965d800-ea9f-4452-fb4c-9680186fdeb3"
      },
      "source": [
        "print(convolution(input_1,f3,2))\n",
        "print(\"--------------------------------------\")\n",
        "print(convolution(input_2,f3,2))"
      ],
      "execution_count": null,
      "outputs": [
        {
          "output_type": "stream",
          "text": [
            "[[1. 3. 9.]\n",
            " [3. 5. 3.]\n",
            " [9. 3. 1.]]\n",
            "--------------------------------------\n",
            "[[-3.  3.  9.]\n",
            " [ 1.  5.  1.]\n",
            " [ 1.  1. -3.]]\n"
          ],
          "name": "stdout"
        }
      ]
    },
    {
      "cell_type": "code",
      "metadata": {
        "id": "S7sVlxYW8ZLX",
        "colab_type": "code",
        "colab": {}
      },
      "source": [
        "def drop(feature_map,limit):\n",
        "  for i in range(len(feature_map)):\n",
        "    for j in range(len(feature_map)):\n",
        "      if feature_map[i,j] < limit:\n",
        "        feature_map[i,j]=0\n",
        "      else:\n",
        "        feature_map[i,j]=1\n",
        "  return feature_map\n"
      ],
      "execution_count": null,
      "outputs": []
    },
    {
      "cell_type": "code",
      "metadata": {
        "id": "Gee3enoB7F55",
        "colab_type": "code",
        "colab": {
          "base_uri": "https://localhost:8080/",
          "height": 86
        },
        "outputId": "ac920a85-e457-4041-f223-39451c4f5af3"
      },
      "source": [
        "feature_map_1=convolution(input_1,f1,2)\n",
        "feature_map_1=feature_map_1/feature_map_1.sum()\n",
        "print(\"feature_map_1 of input_1:\")\n",
        "print(drop(feature_map_1,0.1)) "
      ],
      "execution_count": null,
      "outputs": [
        {
          "output_type": "stream",
          "text": [
            "feature_map_1 of input_1:\n",
            "[[1. 0. 0.]\n",
            " [0. 1. 0.]\n",
            " [0. 0. 1.]]\n"
          ],
          "name": "stdout"
        }
      ]
    },
    {
      "cell_type": "code",
      "metadata": {
        "id": "T5PWhJ6T6qx4",
        "colab_type": "code",
        "colab": {
          "base_uri": "https://localhost:8080/",
          "height": 86
        },
        "outputId": "b6df983f-e684-4bc6-cab5-3ae1ef6ca453"
      },
      "source": [
        "feature_map_2=convolution(input_1,f2,2)\n",
        "feature_map_2=feature_map_2/feature_map_2.sum()\n",
        "print(\"feature_map_2 of input_1:\")\n",
        "print(drop(feature_map_2,0.1))"
      ],
      "execution_count": null,
      "outputs": [
        {
          "output_type": "stream",
          "text": [
            "feature_map_2 of input_1:\n",
            "[[1. 0. 1.]\n",
            " [0. 1. 0.]\n",
            " [1. 0. 1.]]\n"
          ],
          "name": "stdout"
        }
      ]
    },
    {
      "cell_type": "code",
      "metadata": {
        "id": "nN9D_vhj9kF8",
        "colab_type": "code",
        "colab": {
          "base_uri": "https://localhost:8080/",
          "height": 86
        },
        "outputId": "015b3cfd-0208-4d6a-e326-d10e48eb2d14"
      },
      "source": [
        "feature_map_3=convolution(input_1,f3,2)\n",
        "feature_map_3=feature_map_3/feature_map_3.sum()\n",
        "print(\"feature_map_3 of input_1:\")\n",
        "print(drop(feature_map_3,0.1))"
      ],
      "execution_count": null,
      "outputs": [
        {
          "output_type": "stream",
          "text": [
            "feature_map_3 of input_1:\n",
            "[[0. 0. 1.]\n",
            " [0. 1. 0.]\n",
            " [1. 0. 0.]]\n"
          ],
          "name": "stdout"
        }
      ]
    }
  ]
}