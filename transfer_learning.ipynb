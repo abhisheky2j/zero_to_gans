{
  "nbformat": 4,
  "nbformat_minor": 0,
  "metadata": {
    "kernelspec": {
      "name": "python3",
      "display_name": "Python 3",
      "language": "python"
    },
    "language_info": {
      "name": "python",
      "version": "3.7.6",
      "mimetype": "text/x-python",
      "codemirror_mode": {
        "name": "ipython",
        "version": 3
      },
      "pygments_lexer": "ipython3",
      "nbconvert_exporter": "python",
      "file_extension": ".py"
    },
    "colab": {
      "name": "transfer_learning.ipynb",
      "provenance": [],
      "private_outputs": true,
      "collapsed_sections": [
        "_Xpit8OLFUyE",
        "rmU4dy5gFUyM",
        "tD_PK-3TFUyb",
        "ETnh5eFMFUy9"
      ],
      "toc_visible": true,
      "include_colab_link": true
    },
    "accelerator": "GPU"
  },
  "cells": [
    {
      "cell_type": "markdown",
      "metadata": {
        "id": "view-in-github",
        "colab_type": "text"
      },
      "source": [
        "<a href=\"https://colab.research.google.com/github/depplenny/zero_to_gans/blob/master/transfer_learning.ipynb\" target=\"_parent\"><img src=\"https://colab.research.google.com/assets/colab-badge.svg\" alt=\"Open In Colab\"/></a>"
      ]
    },
    {
      "cell_type": "markdown",
      "metadata": {
        "_uuid": "8f2839f25d086af736a60e9eeb907d3b93b6e0e5",
        "_cell_guid": "b1076dfc-b9ad-4769-8c92-a6c4dae69d19",
        "trusted": true,
        "id": "E1tDdEWzFUxj",
        "colab_type": "text"
      },
      "source": [
        "# Human Protein Multi Label Image Classification - Transfer Learning & Regularization\n",
        "\n",
        "\n",
        "How a CNN learns ([source](https://developer.nvidia.com/discover/convolutional-neural-network)):\n",
        "\n",
        "![cnn-learning](https://developer.nvidia.com/sites/default/files/pictures/2018/convolutional_neural_network.png)\n",
        "\n",
        "Layer visualization ([source](https://medium.com/analytics-vidhya/deep-learning-visualization-and-interpretation-of-neural-networks-2f3f82f501c5)):\n",
        "\n",
        "![cnn-learning](https://miro.medium.com/max/1610/1*WysCJ6Ynecvviwctt6WDlQ.png)\n",
        "\n",
        "\n",
        "Transfer learning ([source](https://mc.ai/transfer-learning-with-deep-learning-machine-learning-techniques/)):\n",
        "![transfer-learning](https://miro.medium.com/max/1000/1*LUFUl_8fqS97nUzpcFjgWw.png)\n",
        "\n",
        "This is a starter notebook for the competition [Zero to GANs - Human Protein Classification](https://www.kaggle.com/c/jovian-pytorch-z2g). It incorporates transfer learning, and other techniques from https://jovian.ml/aakashns/05b-cifar10-resnet"
      ]
    },
    {
      "cell_type": "code",
      "metadata": {
        "id": "HBBgbOXy_NF0",
        "colab_type": "code",
        "colab": {}
      },
      "source": [
        "!pip install git+https://github.com/Kaggle/kaggle-api.git --upgrade\n",
        "import os\n",
        "credentials = {\"username\":\"depplenny\",\"key\":\"c218b6c8a3963c58f9e99de7a89ec338\"}\n",
        "os.environ['KAGGLE_USERNAME']=credentials[\"username\"]\n",
        "os.environ['KAGGLE_KEY']=credentials[\"key\"]\n",
        "!kaggle competitions download -c jovian-pytorch-z2g\n",
        "!unzip jovian-pytorch-z2g.zip"
      ],
      "execution_count": null,
      "outputs": []
    },
    {
      "cell_type": "code",
      "metadata": {
        "id": "L0SxbqbP_pQI",
        "colab_type": "code",
        "colab": {}
      },
      "source": [
        "DATA_DIR = '/content/Human protein atlas'\n",
        "\n",
        "TRAIN_DIR = DATA_DIR + '/train'                           # Contains training images\n",
        "TEST_DIR = DATA_DIR + '/test'                             # Contains test images\n",
        "\n",
        "TRAIN_CSV = DATA_DIR + '/train.csv'                       # Contains real labels for training images\n",
        "TEST_CSV = '/content/submission.csv'   # Contains dummy labels for test image"
      ],
      "execution_count": null,
      "outputs": []
    },
    {
      "cell_type": "code",
      "metadata": {
        "_uuid": "d629ff2d2480ee46fbb7e2d37f6b5fab8052498a",
        "_cell_guid": "79c7e3d0-c299-4dcb-8224-4455121ee9b0",
        "trusted": true,
        "id": "IEFPnGBBFUxl",
        "colab_type": "code",
        "colab": {}
      },
      "source": [
        "import os\n",
        "import torch\n",
        "import pandas as pd\n",
        "import numpy as np\n",
        "from torch.utils.data import Dataset, random_split, DataLoader\n",
        "from PIL import Image\n",
        "import torchvision.models as models\n",
        "import matplotlib.pyplot as plt\n",
        "from tqdm.notebook import tqdm\n",
        "import torchvision.transforms as T\n",
        "from sklearn.metrics import f1_score\n",
        "import torch.nn.functional as F\n",
        "import torch.nn as nn\n",
        "from torchvision.utils import make_grid\n",
        "%matplotlib inline"
      ],
      "execution_count": null,
      "outputs": []
    },
    {
      "cell_type": "markdown",
      "metadata": {
        "id": "Rg4UggTYFUxn",
        "colab_type": "text"
      },
      "source": [
        "## Preparing the Data"
      ]
    },
    {
      "cell_type": "code",
      "metadata": {
        "trusted": true,
        "id": "4saE3S4CFUxs",
        "colab_type": "code",
        "colab": {}
      },
      "source": [
        "data_df = pd.read_csv(TRAIN_CSV)\n",
        "data_df.head()"
      ],
      "execution_count": null,
      "outputs": []
    },
    {
      "cell_type": "code",
      "metadata": {
        "trusted": true,
        "id": "2ZfmfN94FUxv",
        "colab_type": "code",
        "colab": {}
      },
      "source": [
        "labels = {\n",
        "    0: 'Mitochondria',\n",
        "    1: 'Nuclear bodies',\n",
        "    2: 'Nucleoli',\n",
        "    3: 'Golgi apparatus',\n",
        "    4: 'Nucleoplasm',\n",
        "    5: 'Nucleoli fibrillar center',\n",
        "    6: 'Cytosol',\n",
        "    7: 'Plasma membrane',\n",
        "    8: 'Centrosome',\n",
        "    9: 'Nuclear speckles'\n",
        "}"
      ],
      "execution_count": null,
      "outputs": []
    },
    {
      "cell_type": "code",
      "metadata": {
        "trusted": true,
        "id": "cnvskfNAFUxx",
        "colab_type": "code",
        "colab": {}
      },
      "source": [
        "def encode_label(label):\n",
        "    target = torch.zeros(10)\n",
        "    for l in str(label).split(' '):\n",
        "        target[int(l)] = 1.\n",
        "    return target\n",
        "\n",
        "def decode_target(target, text_labels=False, threshold=0.4):\n",
        "    # change threshold?\n",
        "    result = []\n",
        "    for i, x in enumerate(target):\n",
        "        if (x >= threshold):\n",
        "            if text_labels:\n",
        "                result.append(labels[i] + \"(\" + str(i) + \")\")\n",
        "            else:\n",
        "                result.append(str(i))\n",
        "    return ' '.join(result)"
      ],
      "execution_count": null,
      "outputs": []
    },
    {
      "cell_type": "code",
      "metadata": {
        "trusted": true,
        "id": "IvXMhKXKFUxz",
        "colab_type": "code",
        "colab": {}
      },
      "source": [
        "decode_target(encode_label('9 8 1'))"
      ],
      "execution_count": null,
      "outputs": []
    },
    {
      "cell_type": "code",
      "metadata": {
        "trusted": true,
        "id": "_PTGWMDvFUx1",
        "colab_type": "code",
        "colab": {}
      },
      "source": [
        "class HumanProteinDataset(Dataset):\n",
        "    def __init__(self, df, root_dir, transform=None):\n",
        "        # pandas dataframe\n",
        "        self.df = df\n",
        "        self.transform = transform\n",
        "        self.root_dir = root_dir\n",
        "        \n",
        "    def __len__(self):\n",
        "        return len(self.df)    \n",
        "    \n",
        "    def __getitem__(self, idx):\n",
        "        row = self.df.loc[idx]\n",
        "        img_id, img_label = row['Image'], row['Label']\n",
        "        img_fname = self.root_dir + \"/\" + str(img_id) + \".png\"\n",
        "        img = Image.open(img_fname)\n",
        "        if self.transform:\n",
        "            # transform PIL Image\n",
        "            img = self.transform(img)\n",
        "        return img, encode_label(img_label)"
      ],
      "execution_count": null,
      "outputs": []
    },
    {
      "cell_type": "markdown",
      "metadata": {
        "id": "Jgo3CV-GFUx4",
        "colab_type": "text"
      },
      "source": [
        "### Data augmentations"
      ]
    },
    {
      "cell_type": "code",
      "metadata": {
        "trusted": true,
        "id": "eOHG1K1RFUx4",
        "colab_type": "code",
        "colab": {}
      },
      "source": [
        "imagenet_stats = ([0.485, 0.456, 0.406], [0.229, 0.224, 0.225])\n",
        "\n",
        "train_tfms = T.Compose([\n",
        "    T.RandomCrop(512, padding=8, padding_mode='reflect'),\n",
        "#     T.RandomResizedCrop(256, scale=(0.5,0.9), ratio=(1, 1)), \n",
        "#     T.ColorJitter(brightness=0.1, contrast=0.1, saturation=0.1, hue=0.1),\n",
        "    T.RandomHorizontalFlip(), \n",
        "    T.RandomRotation(10),\n",
        "    T.ToTensor(), \n",
        "#     T.Normalize(*imagenet_stats,inplace=True), \n",
        "    T.RandomErasing(inplace=True)\n",
        "])\n",
        "\n",
        "valid_tfms = T.Compose([\n",
        "#     T.Resize(256), \n",
        "    T.ToTensor(), \n",
        "#     T.Normalize(*imagenet_stats)\n",
        "])"
      ],
      "execution_count": null,
      "outputs": []
    },
    {
      "cell_type": "code",
      "metadata": {
        "trusted": true,
        "id": "czn6xxENFUx6",
        "colab_type": "code",
        "colab": {}
      },
      "source": [
        "np.random.seed(42)\n",
        "# Take about 2% of train data as validation\n",
        "msk = np.random.rand(len(data_df)) < 0.98\n",
        "\n",
        "train_df = data_df[msk].reset_index()\n",
        "val_df = data_df[~msk].reset_index()"
      ],
      "execution_count": null,
      "outputs": []
    },
    {
      "cell_type": "code",
      "metadata": {
        "trusted": true,
        "id": "gSaf_TlMFUx9",
        "colab_type": "code",
        "colab": {}
      },
      "source": [
        "train_ds = HumanProteinDataset(train_df, TRAIN_DIR, transform=train_tfms)\n",
        "val_ds = HumanProteinDataset(val_df, TRAIN_DIR, transform=valid_tfms)\n",
        "len(train_ds), len(val_ds)"
      ],
      "execution_count": null,
      "outputs": []
    },
    {
      "cell_type": "code",
      "metadata": {
        "trusted": true,
        "id": "0f_2Vix3FUx_",
        "colab_type": "code",
        "colab": {}
      },
      "source": [
        "def show_sample(img, target, invert=True):\n",
        "    if invert:\n",
        "        plt.imshow(1 - img.permute((1, 2, 0)))\n",
        "    else:\n",
        "        plt.imshow(img.permute(1, 2, 0))\n",
        "    print('Labels:', decode_target(target, text_labels=True))"
      ],
      "execution_count": null,
      "outputs": []
    },
    {
      "cell_type": "code",
      "metadata": {
        "trusted": true,
        "id": "yT_QqmD0FUyB",
        "colab_type": "code",
        "colab": {}
      },
      "source": [
        "show_sample(*train_ds[2], invert=False)"
      ],
      "execution_count": null,
      "outputs": []
    },
    {
      "cell_type": "markdown",
      "metadata": {
        "id": "_Xpit8OLFUyE",
        "colab_type": "text"
      },
      "source": [
        "### DataLoaders"
      ]
    },
    {
      "cell_type": "code",
      "metadata": {
        "trusted": true,
        "id": "FZotA7E9FUyE",
        "colab_type": "code",
        "colab": {}
      },
      "source": [
        "batch_size = 64"
      ],
      "execution_count": null,
      "outputs": []
    },
    {
      "cell_type": "code",
      "metadata": {
        "trusted": true,
        "id": "YeBPAHeGFUyG",
        "colab_type": "code",
        "colab": {}
      },
      "source": [
        "train_dl = DataLoader(train_ds, batch_size, shuffle=True, \n",
        "                      num_workers=3, pin_memory=True)\n",
        "val_dl = DataLoader(val_ds, batch_size*2, \n",
        "                    num_workers=2, pin_memory=True)"
      ],
      "execution_count": null,
      "outputs": []
    },
    {
      "cell_type": "code",
      "metadata": {
        "trusted": true,
        "id": "P3Cvp4AyFUyI",
        "colab_type": "code",
        "colab": {}
      },
      "source": [
        "def show_batch(dl, invert=True):\n",
        "    for images, labels in dl:\n",
        "        fig, ax = plt.subplots(figsize=(16, 8))\n",
        "        ax.set_xticks([]); ax.set_yticks([])\n",
        "        data = 1-images if invert else images\n",
        "        ax.imshow(make_grid(data, nrow=16).permute(1, 2, 0))\n",
        "        break"
      ],
      "execution_count": null,
      "outputs": []
    },
    {
      "cell_type": "code",
      "metadata": {
        "trusted": true,
        "id": "Pki4_cGxFUyK",
        "colab_type": "code",
        "colab": {}
      },
      "source": [
        "show_batch(train_dl, invert=True)"
      ],
      "execution_count": null,
      "outputs": []
    },
    {
      "cell_type": "markdown",
      "metadata": {
        "id": "rmU4dy5gFUyM",
        "colab_type": "text"
      },
      "source": [
        "## Model - Transfer Learning"
      ]
    },
    {
      "cell_type": "code",
      "metadata": {
        "trusted": true,
        "id": "52k5l1ZGFUyM",
        "colab_type": "code",
        "colab": {}
      },
      "source": [
        "#?\n",
        "def F_score(output, label, threshold=0.4, beta=1):\n",
        "    prob = output > threshold\n",
        "    label = label > threshold\n",
        "\n",
        "    TP = (prob & label).sum(1).float()\n",
        "    TN = ((~prob) & (~label)).sum(1).float()\n",
        "    FP = (prob & (~label)).sum(1).float()\n",
        "    FN = ((~prob) & label).sum(1).float()\n",
        "\n",
        "    precision = torch.mean(TP / (TP + FP + 1e-12))\n",
        "    recall = torch.mean(TP / (TP + FN + 1e-12))\n",
        "    F2 = (1 + beta**2) * precision * recall / (beta**2 * precision + recall + 1e-12)\n",
        "    return F2.mean(0)"
      ],
      "execution_count": null,
      "outputs": []
    },
    {
      "cell_type": "code",
      "metadata": {
        "trusted": true,
        "id": "Uy2A4QgaFUyP",
        "colab_type": "code",
        "colab": {}
      },
      "source": [
        "class MultilabelImageClassificationBase(nn.Module):\n",
        "    def training_step(self, batch):\n",
        "        images, targets = batch \n",
        "        out = self(images)                      \n",
        "        loss = F.binary_cross_entropy(out, targets)      \n",
        "        return loss\n",
        "    \n",
        "    def validation_step(self, batch):\n",
        "        images, targets = batch \n",
        "        out = self(images)                           # Generate predictions\n",
        "        loss = F.binary_cross_entropy(out, targets)  # Calculate loss\n",
        "        score = F_score(out, targets)\n",
        "        return {'val_loss': loss.detach(), 'val_score': score.detach() }\n",
        "        \n",
        "    def validation_epoch_end(self, outputs):\n",
        "        batch_losses = [x['val_loss'] for x in outputs]\n",
        "        epoch_loss = torch.stack(batch_losses).mean()   # Combine losses\n",
        "        batch_scores = [x['val_score'] for x in outputs]\n",
        "        epoch_score = torch.stack(batch_scores).mean()      # Combine accuracies\n",
        "        return {'val_loss': epoch_loss.item(), 'val_score': epoch_score.item()}\n",
        "    \n",
        "    def epoch_end(self, epoch, result):\n",
        "        print(\"Epoch [{}], last_lr: {:.4f}, train_loss: {:.4f}, val_loss: {:.4f}, val_score: {:.4f}\".format(\n",
        "            epoch, result['lrs'][-1], result['train_loss'], result['val_loss'], result['val_score']))"
      ],
      "execution_count": null,
      "outputs": []
    },
    {
      "cell_type": "markdown",
      "metadata": {
        "id": "xFugyOE5FUyR",
        "colab_type": "text"
      },
      "source": [
        "[Learn about ResNets.](https://towardsdatascience.com/an-overview-of-resnet-and-its-variants-5281e2f56035)\n",
        "\n",
        "Check out torchvision models: https://pytorch.org/docs/stable/torchvision/models.html"
      ]
    },
    {
      "cell_type": "code",
      "metadata": {
        "trusted": true,
        "id": "0vo_9hRAFUyR",
        "colab_type": "code",
        "colab": {}
      },
      "source": [
        "models.resnet34()"
      ],
      "execution_count": null,
      "outputs": []
    },
    {
      "cell_type": "code",
      "metadata": {
        "trusted": true,
        "id": "XfDKjyUMFUyT",
        "colab_type": "code",
        "colab": {}
      },
      "source": [
        "class ProteinResnet(MultilabelImageClassificationBase):\n",
        "    def __init__(self):\n",
        "        super().__init__()\n",
        "        # Use a pretrained model\n",
        "        self.network = models.resnet34(pretrained=True)\n",
        "        # Replace last layer\n",
        "        num_ftrs = self.network.fc.in_features\n",
        "        self.network.fc = nn.Linear(num_ftrs, 10)\n",
        "    \n",
        "    def forward(self, xb):\n",
        "        return torch.sigmoid(self.network(xb))\n",
        "    \n",
        "    def freeze(self):\n",
        "        # To freeze the residual layers\n",
        "        for param in self.network.parameters():\n",
        "            param.require_grad = False\n",
        "        for param in self.network.fc.parameters():\n",
        "            param.require_grad = True\n",
        "    \n",
        "    def unfreeze(self):\n",
        "        # Unfreeze all layers\n",
        "        for param in self.network.parameters():\n",
        "            param.require_grad = True"
      ],
      "execution_count": null,
      "outputs": []
    },
    {
      "cell_type": "code",
      "metadata": {
        "trusted": true,
        "id": "zWkO0JTSFUyV",
        "colab_type": "code",
        "colab": {}
      },
      "source": [
        "def get_default_device():\n",
        "    \"\"\"Pick GPU if available, else CPU\"\"\"\n",
        "    if torch.cuda.is_available():\n",
        "        return torch.device('cuda')\n",
        "    else:\n",
        "        return torch.device('cpu')\n",
        "    \n",
        "def to_device(data, device):\n",
        "    \"\"\"Move tensor(s) to chosen device\"\"\"\n",
        "    if isinstance(data, (list,tuple)):\n",
        "        return [to_device(x, device) for x in data]\n",
        "    return data.to(device, non_blocking=True)\n",
        "\n",
        "class DeviceDataLoader():\n",
        "    \"\"\"Wrap a dataloader to move data to a device\"\"\"\n",
        "    def __init__(self, dl, device):\n",
        "        self.dl = dl\n",
        "        self.device = device\n",
        "        \n",
        "    def __iter__(self):\n",
        "        \"\"\"Yield a batch of data after moving it to device\"\"\"\n",
        "        for b in self.dl: \n",
        "            yield to_device(b, self.device)\n",
        "\n",
        "    def __len__(self):\n",
        "        \"\"\"Number of batches\"\"\"\n",
        "        return len(self.dl)"
      ],
      "execution_count": null,
      "outputs": []
    },
    {
      "cell_type": "code",
      "metadata": {
        "trusted": true,
        "id": "X0EYRAfkFUyX",
        "colab_type": "code",
        "colab": {}
      },
      "source": [
        "device = get_default_device()\n",
        "device"
      ],
      "execution_count": null,
      "outputs": []
    },
    {
      "cell_type": "code",
      "metadata": {
        "trusted": true,
        "id": "QnKT9_siFUyZ",
        "colab_type": "code",
        "colab": {}
      },
      "source": [
        "train_dl = DeviceDataLoader(train_dl, device)\n",
        "val_dl = DeviceDataLoader(val_dl, device)"
      ],
      "execution_count": null,
      "outputs": []
    },
    {
      "cell_type": "markdown",
      "metadata": {
        "id": "tD_PK-3TFUyb",
        "colab_type": "text"
      },
      "source": [
        "## Training"
      ]
    },
    {
      "cell_type": "code",
      "metadata": {
        "trusted": true,
        "id": "aAlaxyg4FUyb",
        "colab_type": "code",
        "colab": {}
      },
      "source": [
        "@torch.no_grad()\n",
        "def evaluate(model, val_loader):\n",
        "    model.eval()\n",
        "    outputs = [model.validation_step(batch) for batch in val_loader]\n",
        "    return model.validation_epoch_end(outputs)\n",
        "\n",
        "def get_lr(optimizer):\n",
        "    for param_group in optimizer.param_groups:\n",
        "        return param_group['lr']\n",
        "\n",
        "def fit_one_cycle(epochs, max_lr, model, train_loader, val_loader, \n",
        "                  weight_decay=0, grad_clip=None, opt_func=torch.optim.SGD):\n",
        "    torch.cuda.empty_cache()\n",
        "    history = []\n",
        "    \n",
        "    # Set up cutom optimizer with weight decay\n",
        "    optimizer = opt_func(model.parameters(), max_lr, weight_decay=weight_decay)\n",
        "    # Set up one-cycle learning rate scheduler\n",
        "    sched = torch.optim.lr_scheduler.OneCycleLR(optimizer, max_lr, epochs=epochs, \n",
        "                                                steps_per_epoch=len(train_loader))\n",
        "    \n",
        "    for epoch in range(epochs):\n",
        "        # Training Phase \n",
        "        model.train()\n",
        "        train_losses = []\n",
        "        lrs = []\n",
        "        for batch in tqdm(train_loader):\n",
        "            loss = model.training_step(batch)\n",
        "            train_losses.append(loss)\n",
        "            loss.backward()\n",
        "            \n",
        "            # Gradient clipping\n",
        "            if grad_clip: \n",
        "                nn.utils.clip_grad_value_(model.parameters(), grad_clip)\n",
        "            \n",
        "            optimizer.step()\n",
        "            optimizer.zero_grad()\n",
        "            \n",
        "            # Record & update learning rate\n",
        "            lrs.append(get_lr(optimizer))\n",
        "            sched.step()\n",
        "        \n",
        "        # Validation phase\n",
        "        result = evaluate(model, val_loader)\n",
        "        result['train_loss'] = torch.stack(train_losses).mean().item()\n",
        "        result['lrs'] = lrs\n",
        "        model.epoch_end(epoch, result)\n",
        "        history.append(result)\n",
        "    return history"
      ],
      "execution_count": null,
      "outputs": []
    },
    {
      "cell_type": "code",
      "metadata": {
        "trusted": true,
        "id": "9MK7NuvCFUye",
        "colab_type": "code",
        "colab": {}
      },
      "source": [
        "model = to_device(ProteinResnet(), device)"
      ],
      "execution_count": null,
      "outputs": []
    },
    {
      "cell_type": "code",
      "metadata": {
        "trusted": true,
        "id": "19x6c-ehFUyg",
        "colab_type": "code",
        "colab": {}
      },
      "source": [
        "history = [evaluate(model, val_dl)]\n",
        "history"
      ],
      "execution_count": null,
      "outputs": []
    },
    {
      "cell_type": "code",
      "metadata": {
        "trusted": true,
        "id": "c15DYhixFUyi",
        "colab_type": "code",
        "colab": {}
      },
      "source": [
        "torch.cuda.empty_cache()"
      ],
      "execution_count": null,
      "outputs": []
    },
    {
      "cell_type": "markdown",
      "metadata": {
        "id": "qKCUk1byFUyk",
        "colab_type": "text"
      },
      "source": [
        "First, freeze the ResNet layers and train some epochs. This only trains the final layer to start classifying the images."
      ]
    },
    {
      "cell_type": "code",
      "metadata": {
        "trusted": true,
        "id": "C6MF7LaAFUyk",
        "colab_type": "code",
        "colab": {}
      },
      "source": [
        "model.freeze()"
      ],
      "execution_count": null,
      "outputs": []
    },
    {
      "cell_type": "code",
      "metadata": {
        "trusted": true,
        "id": "VZqja1TQFUym",
        "colab_type": "code",
        "colab": {}
      },
      "source": [
        "epochs = 20\n",
        "max_lr = 0.005 # 0.01\n",
        "grad_clip = 0.1\n",
        "weight_decay = 1e-4\n",
        "opt_func = torch.optim.Adam"
      ],
      "execution_count": null,
      "outputs": []
    },
    {
      "cell_type": "code",
      "metadata": {
        "trusted": true,
        "id": "wCOQitmVFUyo",
        "colab_type": "code",
        "colab": {}
      },
      "source": [
        "%%time\n",
        "history += fit_one_cycle(epochs, max_lr, model, train_dl, val_dl, \n",
        "                         grad_clip=grad_clip, \n",
        "                         weight_decay=weight_decay, \n",
        "                         opt_func=opt_func)"
      ],
      "execution_count": null,
      "outputs": []
    },
    {
      "cell_type": "markdown",
      "metadata": {
        "id": "lWJXt4BZFUyq",
        "colab_type": "text"
      },
      "source": [
        "Now, unfreeze and train some more."
      ]
    },
    {
      "cell_type": "code",
      "metadata": {
        "trusted": true,
        "id": "JHwQEgqwFUyq",
        "colab_type": "code",
        "colab": {}
      },
      "source": [
        "# model.unfreeze()"
      ],
      "execution_count": null,
      "outputs": []
    },
    {
      "cell_type": "code",
      "metadata": {
        "trusted": true,
        "id": "KAbpGNgpFUys",
        "colab_type": "code",
        "colab": {}
      },
      "source": [
        "# %%time\n",
        "# history += fit_one_cycle(epochs, 0.001, model, train_dl, val_dl, \n",
        "                         grad_clip=grad_clip, \n",
        "                         weight_decay=weight_decay, \n",
        "                         opt_func=opt_func)"
      ],
      "execution_count": null,
      "outputs": []
    },
    {
      "cell_type": "code",
      "metadata": {
        "trusted": true,
        "id": "Svo5N4FFFUyw",
        "colab_type": "code",
        "colab": {}
      },
      "source": [
        "def plot_scores(history):\n",
        "    scores = [x['val_score'] for x in history]\n",
        "    plt.plot(scores, '-x')\n",
        "    plt.xlabel('epoch')\n",
        "    plt.ylabel('score')\n",
        "    plt.title('F1 score vs. No. of epochs');"
      ],
      "execution_count": null,
      "outputs": []
    },
    {
      "cell_type": "code",
      "metadata": {
        "trusted": true,
        "id": "iAeoBJqXFUyy",
        "colab_type": "code",
        "colab": {}
      },
      "source": [
        "plot_scores(history)"
      ],
      "execution_count": null,
      "outputs": []
    },
    {
      "cell_type": "code",
      "metadata": {
        "trusted": true,
        "id": "PRK-WNPoFUyz",
        "colab_type": "code",
        "colab": {}
      },
      "source": [
        "def plot_losses(history):\n",
        "    train_losses = [x.get('train_loss') for x in history]\n",
        "    val_losses = [x['val_loss'] for x in history]\n",
        "    plt.plot(train_losses, '-bx')\n",
        "    plt.plot(val_losses, '-rx')\n",
        "    plt.xlabel('epoch')\n",
        "    plt.ylabel('loss')\n",
        "    plt.legend(['Training', 'Validation'])\n",
        "    plt.title('Loss vs. No. of epochs');"
      ],
      "execution_count": null,
      "outputs": []
    },
    {
      "cell_type": "code",
      "metadata": {
        "trusted": true,
        "id": "-NpQRKG6FUy1",
        "colab_type": "code",
        "colab": {}
      },
      "source": [
        "plot_losses(history)"
      ],
      "execution_count": null,
      "outputs": []
    },
    {
      "cell_type": "code",
      "metadata": {
        "trusted": true,
        "id": "A5w6iZOuFUy3",
        "colab_type": "code",
        "colab": {}
      },
      "source": [
        "def plot_lrs(history):\n",
        "    lrs = np.concatenate([x.get('lrs', []) for x in history])\n",
        "    plt.plot(lrs)\n",
        "    plt.xlabel('Batch no.')\n",
        "    plt.ylabel('Learning rate')\n",
        "    plt.title('Learning Rate vs. Batch no.');"
      ],
      "execution_count": null,
      "outputs": []
    },
    {
      "cell_type": "code",
      "metadata": {
        "trusted": true,
        "id": "t3QDTqLmFUy6",
        "colab_type": "code",
        "colab": {}
      },
      "source": [
        "plot_lrs(history)"
      ],
      "execution_count": null,
      "outputs": []
    },
    {
      "cell_type": "markdown",
      "metadata": {
        "id": "ETnh5eFMFUy9",
        "colab_type": "text"
      },
      "source": [
        "## Making predictions and submission"
      ]
    },
    {
      "cell_type": "code",
      "metadata": {
        "trusted": true,
        "id": "bBxxgdyxFUy-",
        "colab_type": "code",
        "colab": {}
      },
      "source": [
        "def predict_single(image):\n",
        "    xb = image.unsqueeze(0)\n",
        "    xb = to_device(xb, device)\n",
        "    preds = model(xb)\n",
        "    prediction = preds[0]\n",
        "    print(\"Prediction: \", prediction)\n",
        "    show_sample(image, prediction)"
      ],
      "execution_count": null,
      "outputs": []
    },
    {
      "cell_type": "code",
      "metadata": {
        "trusted": true,
        "id": "fbmZrMv3FUzA",
        "colab_type": "code",
        "colab": {}
      },
      "source": [
        "test_df = pd.read_csv(TEST_CSV)\n",
        "test_dataset = HumanProteinDataset(test_df, TEST_DIR, transform=valid_tfms)"
      ],
      "execution_count": null,
      "outputs": []
    },
    {
      "cell_type": "code",
      "metadata": {
        "trusted": true,
        "id": "NHW5zwQKFUzC",
        "colab_type": "code",
        "colab": {}
      },
      "source": [
        "img, target = test_dataset[0]\n",
        "img.shape"
      ],
      "execution_count": null,
      "outputs": []
    },
    {
      "cell_type": "code",
      "metadata": {
        "trusted": true,
        "id": "ahJmJUC5FUzE",
        "colab_type": "code",
        "colab": {}
      },
      "source": [
        "predict_single(test_dataset[100][0])"
      ],
      "execution_count": null,
      "outputs": []
    },
    {
      "cell_type": "code",
      "metadata": {
        "trusted": true,
        "id": "DGd8H-GrFUzG",
        "colab_type": "code",
        "colab": {}
      },
      "source": [
        "predict_single(test_dataset[74][0])"
      ],
      "execution_count": null,
      "outputs": []
    },
    {
      "cell_type": "code",
      "metadata": {
        "trusted": true,
        "id": "B-f41h2CFUzJ",
        "colab_type": "code",
        "colab": {}
      },
      "source": [
        "test_dl = DeviceDataLoader(DataLoader(test_dataset, batch_size, num_workers=3, pin_memory=True), device)"
      ],
      "execution_count": null,
      "outputs": []
    },
    {
      "cell_type": "code",
      "metadata": {
        "trusted": true,
        "id": "Seu3h1aZFUzL",
        "colab_type": "code",
        "colab": {}
      },
      "source": [
        "@torch.no_grad()\n",
        "def predict_dl(dl, model):\n",
        "    torch.cuda.empty_cache()\n",
        "    batch_probs = []\n",
        "    for xb, _ in tqdm(dl):\n",
        "        probs = model(xb)\n",
        "        batch_probs.append(probs.cpu().detach())\n",
        "    batch_probs = torch.cat(batch_probs)\n",
        "    return [decode_target(x) for x in batch_probs]"
      ],
      "execution_count": null,
      "outputs": []
    },
    {
      "cell_type": "code",
      "metadata": {
        "trusted": true,
        "id": "5sG38bYkFUzM",
        "colab_type": "code",
        "colab": {}
      },
      "source": [
        "test_preds = predict_dl(test_dl, model)"
      ],
      "execution_count": null,
      "outputs": []
    },
    {
      "cell_type": "code",
      "metadata": {
        "trusted": true,
        "id": "_IMK-vCvFUzN",
        "colab_type": "code",
        "colab": {}
      },
      "source": [
        "submission_df = pd.read_csv(TEST_CSV)\n",
        "submission_df.Label = test_preds\n",
        "submission_df.sample(20)"
      ],
      "execution_count": null,
      "outputs": []
    },
    {
      "cell_type": "code",
      "metadata": {
        "trusted": true,
        "id": "B2hhyKOBFUzP",
        "colab_type": "code",
        "colab": {}
      },
      "source": [
        "sub_fname = 'submission.csv'"
      ],
      "execution_count": null,
      "outputs": []
    },
    {
      "cell_type": "code",
      "metadata": {
        "trusted": true,
        "id": "rn3Iu-68FUzR",
        "colab_type": "code",
        "colab": {}
      },
      "source": [
        "submission_df.to_csv(sub_fname, index=False)"
      ],
      "execution_count": null,
      "outputs": []
    },
    {
      "cell_type": "code",
      "metadata": {
        "trusted": true,
        "id": "pxsCPShQFUzU",
        "colab_type": "code",
        "colab": {}
      },
      "source": [
        "weights_fname = 'protein-resnet.pth'\n",
        "torch.save(model.state_dict(), weights_fname)"
      ],
      "execution_count": null,
      "outputs": []
    }
  ]
}